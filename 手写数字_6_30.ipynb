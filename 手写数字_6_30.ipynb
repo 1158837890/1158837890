{
  "nbformat": 4,
  "nbformat_minor": 0,
  "metadata": {
    "colab": {
      "name": "手写数字-6.30.ipynb",
      "provenance": [],
      "collapsed_sections": []
    },
    "kernelspec": {
      "name": "python3",
      "display_name": "Python 3"
    },
    "language_info": {
      "name": "python"
    },
    "gpuClass": "standard",
    "accelerator": "GPU"
  },
  "cells": [
    {
      "cell_type": "code",
      "execution_count": 26,
      "metadata": {
        "id": "_yJZhM423dvF"
      },
      "outputs": [],
      "source": [
        "from sklearn.datasets import load_digits"
      ]
    },
    {
      "cell_type": "markdown",
      "source": [
        "从sklearn.datasets中导入手写数字加载器\n",
        "\n",
        "\n"
      ],
      "metadata": {
        "id": "gCWP_OJe6_80"
      }
    },
    {
      "cell_type": "code",
      "source": [
        "digits = load_digits()\n",
        "x = digits.data\n",
        "y = digits.target"
      ],
      "metadata": {
        "id": "FYi-li9e64ul"
      },
      "execution_count": 27,
      "outputs": []
    },
    {
      "cell_type": "markdown",
      "source": [
        "获取手写体数字的数码图像并存储在变量digits中"
      ],
      "metadata": {
        "id": "etXsz8Yw8hfY"
      }
    },
    {
      "cell_type": "code",
      "source": [
        "from sklearn.model_selection import train_test_split"
      ],
      "metadata": {
        "id": "TWS2kTxt7-DV"
      },
      "execution_count": 28,
      "outputs": []
    },
    {
      "cell_type": "markdown",
      "source": [
        "导入数据分割模块"
      ],
      "metadata": {
        "id": "UIiauOST9vqk"
      }
    },
    {
      "cell_type": "code",
      "source": [
        "x_train,x_test,y_train,y_test = train_test_split(x,y,test_size=0.25,random_state=33)"
      ],
      "metadata": {
        "id": "dpo61DbF9g0l"
      },
      "execution_count": 29,
      "outputs": []
    },
    {
      "cell_type": "markdown",
      "source": [
        "将数据分割为训练集和测试集"
      ],
      "metadata": {
        "id": "nqsz3N1p_gKF"
      }
    },
    {
      "cell_type": "code",
      "source": [
        "from sklearn.preprocessing import StandardScaler"
      ],
      "metadata": {
        "id": "6d3kyojE-tMt"
      },
      "execution_count": 30,
      "outputs": []
    },
    {
      "cell_type": "markdown",
      "source": [
        "导入数据标准化模块"
      ],
      "metadata": {
        "id": "UZwSXi2ZArYK"
      }
    },
    {
      "cell_type": "code",
      "source": [
        "ss = StandardScaler()\n",
        "x_train = ss.fit_transform(x_train)\n",
        "x_test = ss.transform(x_test)"
      ],
      "metadata": {
        "id": "mV9OsGHZ_2vS"
      },
      "execution_count": 31,
      "outputs": []
    },
    {
      "cell_type": "markdown",
      "source": [
        "对特征数据进行标准化操作"
      ],
      "metadata": {
        "id": "uoCdNVH_BWaX"
      }
    },
    {
      "cell_type": "code",
      "source": [
        "from sklearn.neural_network import MLPClassifier"
      ],
      "metadata": {
        "id": "pe6-_DDgBoji"
      },
      "execution_count": 32,
      "outputs": []
    },
    {
      "cell_type": "markdown",
      "source": [
        "使用MLPClassifier类调用神经网络分类算法"
      ],
      "metadata": {
        "id": "kupR0Qz8CB2Y"
      }
    },
    {
      "cell_type": "code",
      "source": [
        "mclf = MLPClassifier()"
      ],
      "metadata": {
        "id": "UZrIY5tFCA7P"
      },
      "execution_count": 33,
      "outputs": []
    },
    {
      "cell_type": "markdown",
      "source": [
        "初始化神经网络分类器"
      ],
      "metadata": {
        "id": "BkmZMLvFCgG3"
      }
    },
    {
      "cell_type": "code",
      "source": [
        "mclf.fit(x_train,y_train)"
      ],
      "metadata": {
        "colab": {
          "base_uri": "https://localhost:8080/"
        },
        "id": "CMlFNb3oCfID",
        "outputId": "82289e84-3c11-42c7-f7eb-c15e9f4b29ec"
      },
      "execution_count": 34,
      "outputs": [
        {
          "output_type": "execute_result",
          "data": {
            "text/plain": [
              "MLPClassifier()"
            ]
          },
          "metadata": {},
          "execution_count": 34
        }
      ]
    },
    {
      "cell_type": "markdown",
      "source": [
        "进行模型训练"
      ],
      "metadata": {
        "id": "bYAOxxbiDCgH"
      }
    },
    {
      "cell_type": "code",
      "source": [
        "y_predict = mclf.predict(x_test)"
      ],
      "metadata": {
        "id": "mDNoslWCC_L3"
      },
      "execution_count": 35,
      "outputs": []
    },
    {
      "cell_type": "markdown",
      "source": [
        "进行预测"
      ],
      "metadata": {
        "id": "6bNVsNSRD-8u"
      }
    },
    {
      "cell_type": "code",
      "source": [
        "print('准确率为:',mclf.score(x_test,y_test))"
      ],
      "metadata": {
        "colab": {
          "base_uri": "https://localhost:8080/"
        },
        "id": "YF5a5Iq4D8r1",
        "outputId": "2e545893-f1af-4fea-c93d-8a0172dab1bb"
      },
      "execution_count": 38,
      "outputs": [
        {
          "output_type": "stream",
          "name": "stdout",
          "text": [
            "准确率为: 0.9822222222222222\n"
          ]
        }
      ]
    },
    {
      "cell_type": "markdown",
      "source": [
        "使用模型自带的评估函数进行准确率评估"
      ],
      "metadata": {
        "id": "RFHgYaecFZh8"
      }
    },
    {
      "cell_type": "code",
      "source": [
        "from sklearn.metrics import classification_report\n",
        "print(classification_report(y_test,y_predict,target_names = digits.target_names.astype(str)))"
      ],
      "metadata": {
        "colab": {
          "base_uri": "https://localhost:8080/"
        },
        "id": "w3tudM2EEwk9",
        "outputId": "933cfb24-ce46-4490-a466-ae34378c4ae3"
      },
      "execution_count": 39,
      "outputs": [
        {
          "output_type": "stream",
          "name": "stdout",
          "text": [
            "              precision    recall  f1-score   support\n",
            "\n",
            "           0       1.00      1.00      1.00        35\n",
            "           1       1.00      1.00      1.00        54\n",
            "           2       0.98      0.98      0.98        44\n",
            "           3       1.00      0.98      0.99        46\n",
            "           4       0.97      1.00      0.99        35\n",
            "           5       0.98      0.96      0.97        48\n",
            "           6       0.98      1.00      0.99        51\n",
            "           7       1.00      1.00      1.00        35\n",
            "           8       0.96      0.95      0.96        58\n",
            "           9       0.96      0.98      0.97        44\n",
            "\n",
            "    accuracy                           0.98       450\n",
            "   macro avg       0.98      0.98      0.98       450\n",
            "weighted avg       0.98      0.98      0.98       450\n",
            "\n"
          ]
        }
      ]
    },
    {
      "cell_type": "code",
      "source": [
        ""
      ],
      "metadata": {
        "id": "ZVZlLgJAGbHN"
      },
      "execution_count": null,
      "outputs": []
    }
  ]
}